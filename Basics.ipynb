{
 "cells": [
  {
   "cell_type": "markdown",
   "metadata": {},
   "source": [
    "# 1. Analyzing Mobile App Data\n",
    "\n",
    "This short project is about analyzing user counts using our free mobile apps --> taken from Dataquest\n",
    "\n",
    "The ultimate goal is to analyze the data to help our developers understand what type of apps are likely to attract more users. The csv Files can be found at [Kaggle](https://www.kaggle.com/datasets) as the locations of the files are constantly changing, please use the searchbar provided."
   ]
  },
  {
   "cell_type": "markdown",
   "metadata": {},
   "source": [
    "# 2. Opening and Exploring the Data\n",
    "\n",
    "In the previous step, we outlined that our aim is to help our developers understand what type of apps are likely to attract more users on Google Play and the App Store. To do this, we'll need to collect and analyze data about mobile apps available on Google Play and the App Store."
   ]
  },
  {
   "cell_type": "code",
   "execution_count": 4,
   "metadata": {},
   "outputs": [],
   "source": [
    "from csv import reader\n",
    "\n",
    "# function for opening csv files\n",
    "\n",
    "def open_csvFile(file): # defining the function name and input parameters --> file is of type String\n",
    "    filename = open(file) # opening the file and storing it in a variable named `filename`\n",
    "    csv = reader(filename) # using the imported 'reader' parses the opened file and stores it in a variable named `csv`\n",
    "    csv_list = [] # creating an empty list\n",
    "    for row in csv: # looping through the `csv` and for each iteration:\n",
    "        csv_list.append(row) # add a row from the \"csv\" and store it in \"csv_list\" as list\n",
    "    return csv_list # return the csv_list\n",
    "        \n",
    "    \n",
    "ios = open_csvFile(\"AppleStore.csv\") # App store dataset\n",
    "android = open_csvFile(\"googleplaystore.csv\") # Google Play dataset"
   ]
  },
  {
   "cell_type": "code",
   "execution_count": 5,
   "metadata": {},
   "outputs": [],
   "source": [
    "# predefined function from \"dataquest.io\", takes in the following parameters:\n",
    "# - dataset: the opened csv from the above function \"open_csvFile()\"\n",
    "# - start: the indexnumber (as Integer) of the row you´d like to start your exploration with\n",
    "# - stop: the indexnumber (as Integer) of the row you´d like to stop your exploration at\n",
    "# - rows_n_cols: if set to \"True\" prints out the number of rows and columns of the whole dataset\n",
    "\n",
    "def explore_data(dataset, start, stop, rows_n_cols=False): \n",
    "    ds_slice = dataset[start:stop] # slices the dataset according to the input parameters for \"start\" and \"stop\" and stores it in a variable named \"ds_slice\" as List of List \n",
    "    for row in ds_slice: # loops through the \"ds_slice\" and for each iteration:\n",
    "        print(row) # prints each row\n",
    "        print(\"\\n\") # seperated by a new line/empty row\n",
    "    if rows_n_cols: # additional condition: if the parameter \"rows_n_cols\" was set to True:\n",
    "        print(\"Number of rows: \",len(dataset)) # print the number of total rows\n",
    "        print(\"Number of cols: \",len(dataset[0])) # print the number of total columns\n",
    "        \n",
    "        \n"
   ]
  },
  {
   "cell_type": "code",
   "execution_count": 6,
   "metadata": {},
   "outputs": [
    {
     "name": "stdout",
     "output_type": "stream",
     "text": [
      "['', 'id', 'track_name', 'size_bytes', 'currency', 'price', 'rating_count_tot', 'rating_count_ver', 'user_rating', 'user_rating_ver', 'ver', 'cont_rating', 'prime_genre', 'sup_devices.num', 'ipadSc_urls.num', 'lang.num', 'vpp_lic']\n",
      "\n",
      "\n",
      "['1', '281656475', 'PAC-MAN Premium', '100788224', 'USD', '3.99', '21292', '26', '4', '4.5', '6.3.5', '4+', 'Games', '38', '5', '10', '1']\n",
      "\n",
      "\n",
      "['2', '281796108', 'Evernote - stay organized', '158578688', 'USD', '0', '161065', '26', '4', '3.5', '8.2.2', '4+', 'Productivity', '37', '5', '23', '1']\n",
      "\n",
      "\n",
      "['3', '281940292', 'WeatherBug - Local Weather, Radar, Maps, Alerts', '100524032', 'USD', '0', '188583', '2822', '3.5', '4.5', '5.0.0', '4+', 'Weather', '37', '5', '3', '1']\n",
      "\n",
      "\n",
      "['4', '282614216', 'eBay: Best App to Buy, Sell, Save! Online Shopping', '128512000', 'USD', '0', '262241', '649', '4', '4.5', '5.10.0', '12+', 'Shopping', '37', '5', '9', '1']\n",
      "\n",
      "\n",
      "Number of rows:  7198\n",
      "Number of cols:  17\n",
      "['App', 'Category', 'Rating', 'Reviews', 'Size', 'Installs', 'Type', 'Price', 'Content Rating', 'Genres', 'Last Updated', 'Current Ver', 'Android Ver']\n",
      "\n",
      "\n",
      "['Photo Editor & Candy Camera & Grid & ScrapBook', 'ART_AND_DESIGN', '4.1', '159', '19M', '10,000+', 'Free', '0', 'Everyone', 'Art & Design', 'January 7, 2018', '1.0.0', '4.0.3 and up']\n",
      "\n",
      "\n",
      "['Coloring book moana', 'ART_AND_DESIGN', '3.9', '967', '14M', '500,000+', 'Free', '0', 'Everyone', 'Art & Design;Pretend Play', 'January 15, 2018', '2.0.0', '4.0.3 and up']\n",
      "\n",
      "\n",
      "['U Launcher Lite – FREE Live Cool Themes, Hide Apps', 'ART_AND_DESIGN', '4.7', '87510', '8.7M', '5,000,000+', 'Free', '0', 'Everyone', 'Art & Design', 'August 1, 2018', '1.2.4', '4.0.3 and up']\n",
      "\n",
      "\n",
      "['Sketch - Draw & Paint', 'ART_AND_DESIGN', '4.5', '215644', '25M', '50,000,000+', 'Free', '0', 'Teen', 'Art & Design', 'June 8, 2018', 'Varies with device', '4.2 and up']\n",
      "\n",
      "\n"
     ]
    }
   ],
   "source": [
    "explore_data(ios,0,5, True) # testing the \"explore_data()\" Function with the iOS dataset (first 4 columns) and print the total no. of rows and columns\n",
    "explore_data(android,0,5) # testing the \"explore_data()\" Function with the android dataset (first 4 columns)"
   ]
  },
  {
   "cell_type": "markdown",
   "metadata": {},
   "source": [
    "# 3. Deleting Wrong Data\n",
    "\n",
    "The Google Play data set has a dedicated discussion section, and we can see that one of the discussions describes an error for a certain row."
   ]
  },
  {
   "cell_type": "code",
   "execution_count": 14,
   "metadata": {},
   "outputs": [],
   "source": [
    "# function named \"find_error()\" that takes the desired \"dataset\" as input parameter:\n",
    "\n",
    "def find_error(dataset):\n",
    "    for row in dataset: # for each iteration:\n",
    "        headerlength = len(dataset[0]) # get the no. of columns of the header (which is at index 0) and store it in a variable called \"headerlength\"\n",
    "        rowlength = len(row) # same as above but with the rest of the rows and store it in a variable called \"rowlength\"\n",
    "        if rowlength != headerlength: # compare if there are rows that have NOT the same no. of columns as the header --> hence cause a column shift\n",
    "            print(row) # print these rows\n",
    "            print(dataset.index(row)) # print the index of these row(s)"
   ]
  },
  {
   "cell_type": "code",
   "execution_count": 15,
   "metadata": {},
   "outputs": [],
   "source": [
    "find_error(android) # find the corrupted row(s) for the android dataset\n",
    "#del android[10473] # --> deletes the corrupted row at the identified index --> commented out, so that no other lines were deleted"
   ]
  },
  {
   "cell_type": "markdown",
   "metadata": {},
   "source": [
    "# 4. Removing Duplicate Entries: Part One\n",
    "\n",
    "The below function splits the dataset into two lists\n",
    "\n",
    "- dups (for duplicates) and\n",
    "- uni (for uniques)\n",
    "\n",
    "and returns both the number of each lists length and it´s contents"
   ]
  },
  {
   "cell_type": "code",
   "execution_count": 16,
   "metadata": {},
   "outputs": [],
   "source": [
    "# function named \"find_dups\" to identify duplicate rows in each dataset. Takes the following parameters:\n",
    "# dataset: the dataset to inspect (list of lists)\n",
    "# col: the index of the column to inspect (Integer)\n",
    "\n",
    "def find_dups(dataset, col):\n",
    "    dups = [] # create an empty list to store duplicates\n",
    "    uni = [] # create an empty list to store unique rows\n",
    "    for row in dataset: # for each iteration:\n",
    "        name = row[col] # get the row (in this case the \"Appname\") from the desired column (provided by \"col\") and store it in a variable called \"name\"\n",
    "        if name in uni: # if the name already occurs in the above created \"uni\" list:\n",
    "            dups.append(name) # store that name in the other list --> \"dups\" created above\n",
    "        else: # if the name does NOT already occur in the \"uni\" list --> if it´s new:\n",
    "            uni.append(name) # store that name in the \"uni\" list. If the same name occurs again, it will be stored in the \"dups\" list!\n",
    "    print(\"Number of duplicates: \",len(dups)) # in the end: print the no. of rows in the newly populated \"dups\" list\n",
    "    print(\"Number of uniques: \",len(uni)) # print the no. of rows in the newly populated \"uni\" list\n",
    "    return dups, uni # return both lists as Tuple\n",
    "\n",
    "# please specify the column index of the \"name\" column of each dataset in the parameter (since that differs from csv to csv)\n",
    "# the function returns a tuple --> if you wish to display only the duplicates please store the result in a variable and call print:\n",
    "# e.g. dups_ios = find_dups(ios, 2)\n",
    "# print(dups_ios[0])\n",
    "\n",
    "# if you wish to display the unique app-names use:\n",
    "# print(dups_ios[1])"
   ]
  },
  {
   "cell_type": "code",
   "execution_count": 17,
   "metadata": {},
   "outputs": [
    {
     "name": "stdout",
     "output_type": "stream",
     "text": [
      "Number of duplicates:  1181\n",
      "Number of uniques:  9660\n",
      "Number of duplicates:  2\n",
      "Number of uniques:  7196\n",
      "['VR Roller Coaster', 'Mannequin Challenge']\n"
     ]
    }
   ],
   "source": [
    "dups_android = find_dups(android, 0) # find duplicates in the android dataset --> name column index is 0\n",
    "dups_ios = find_dups(ios, 2) # find the duplicates in the iOs dataset --> name column index is 2\n",
    "print(dups_ios[0]) # print the names of the iOS duplicates, since the function returns a Tuple, we need the Tuple at index 0 (index 1 would be the unique names)"
   ]
  },
  {
   "cell_type": "code",
   "execution_count": 18,
   "metadata": {},
   "outputs": [
    {
     "name": "stdout",
     "output_type": "stream",
     "text": [
      "['4000', '952877179', 'VR Roller Coaster', '169523200', 'USD', '0', '107', '102', '3.5', '3.5', '2.0.0', '4+', 'Games', '37', '5', '1', '1']\n",
      "['7579', '1089824278', 'VR Roller Coaster', '240964608', 'USD', '0', '67', '44', '3.5', '4', '0.81', '4+', 'Games', '38', '0', '1', '1']\n"
     ]
    }
   ],
   "source": [
    "for row in ios: # quick check if the above function works, iterate over each row in the ios dataset and:\n",
    "    if row[2] == \"VR Roller Coaster\": # filter for names \"VR Roller Coaster\"\n",
    "        print(row) # print these rows"
   ]
  },
  {
   "cell_type": "markdown",
   "metadata": {},
   "source": [
    "### how to decide which record to delete?\n",
    "\n",
    "As we can see in the output above (Example \"VR Roller Coaster\"), the record differs in the numbers of reviews (col 6). So we can use this to determine which entry is newer (the one with the more reviews).\n",
    "\n",
    "# 5. Removing Duplicate Entries: Part Two\n",
    "\n",
    "To remove the duplicates, we will:\n",
    "\n",
    "- Create a dictionary, where each dictionary key is a unique app name and the corresponding dictionary value is the highest number of reviews of that app.\n",
    "- Use the information stored in the dictionary and create a new data set, which will have only one entry per app (and for each app, we'll only select the entry with the highest number of reviews)."
   ]
  },
  {
   "cell_type": "code",
   "execution_count": 19,
   "metadata": {},
   "outputs": [],
   "source": [
    "# function that creates a Dictionary which stores the AppNames with the corresponding no. of reviews (only those with the highest number of reviews are stored)\n",
    "# Parameters are:\n",
    "# - dataset: the dataset to extract the unique names from\n",
    "# - name_index: the index of the name column\n",
    "# - review_index: the index of the review-counter column\n",
    "\n",
    "def create_rev_Tuple(dataset, name_index, review_index):\n",
    "    reviews_max = {} # creates an empty Dictionary named \"reviews_max\"\n",
    "    for row in dataset[1:]: # looping through the dataset (leaving out the header column, so starting from row 1)\n",
    "        name = row[name_index] # get all the rows from the name column and store them in a variable called \"name\"\n",
    "        n_reviews = float(row[review_index]) # get all the rows from the review-counter column, convert it to a float and store it in a variable called \"n_reviews\"\n",
    "        if name in reviews_max and reviews_max[name] < n_reviews: # check if the extracted name already occors in the \"reviews_max\" dictionary AND if it is smaller than the above created \"n_reviews\"\n",
    "            reviews_max[name] = n_reviews # update the already stored appname in \"reviews_max\" with the new number of reviews \"n_reviews\"\n",
    "        elif name not in reviews_max: # if the extracted name is NOT yet present in \"reviews_max\", \n",
    "            reviews_max[name] = n_reviews # simply add it to the list with it´s corresponding review-count\n",
    "    return reviews_max # return \"reviews_max\" as Dictionary"
   ]
  },
  {
   "cell_type": "code",
   "execution_count": 20,
   "metadata": {},
   "outputs": [
    {
     "name": "stdout",
     "output_type": "stream",
     "text": [
      "9659\n",
      "<class 'dict'>\n",
      "7195\n"
     ]
    }
   ],
   "source": [
    "andTuple = create_rev_Tuple(android, 0, 3) # using the above function, create an Android Dictionary called \"andTuple\" which stores only Appnames with the hightes review counts\n",
    "print(len(andTuple)) # how many entries does the dictionary have?\n",
    "print(type(andTuple)) # what type is the new dataset?\n",
    "iosTuple = create_rev_Tuple(ios, 2,6) # do the same for the iOS dataset\n",
    "print(len(iosTuple)) # how many entries does the iOS dictionary have?\n",
    "\n"
   ]
  },
  {
   "cell_type": "code",
   "execution_count": 21,
   "metadata": {},
   "outputs": [],
   "source": [
    "# function for creating a new dataset, which removes all duplicates and only leaves us with unique appnames\n",
    "# Parameters needed are:\n",
    "# dataset: name of the dataset to clean\n",
    "# name_index: index number of the name-column\n",
    "# review_index: index number of the review-column\n",
    "# dictname: name of the dictionary where you want to store your cleaned dataset \n",
    "\n",
    "def save_uniques(dataset, name_index, review_index, dictname):\n",
    "    cleanlist = [] # empty list that stores the new cleaned dataset\n",
    "    already_added = [] # empty list that stores just the app names (helper list)\n",
    "\n",
    "    for row in dataset[1:]: # loop through the dataset, leaving out the header --> hence starting at row 1\n",
    "        name = row[name_index] # get the name column and store it in a variable called \"name\"\n",
    "        n_reviews = float(row[review_index]) # get the review column, convert it to float and store it in a variable called \"n_reviews\"\n",
    "        if (n_reviews == dictname[name]) and (name not in already_added): # check if the no. of reviews in the \"dictname\" dataset has the same value as the \"n_reviews\" AND if it´s not in the \"already_added\" list\n",
    "            cleanlist.append(row) # add the whole row to the \"cleanlist\"\n",
    "            already_added.append(name) # and also add it´s name to the \"already_added\" list (helper list)\n",
    "    return cleanlist # return only the \"cleanlist\""
   ]
  },
  {
   "cell_type": "markdown",
   "metadata": {},
   "source": [
    "### Unique cleaned Datasets:"
   ]
  },
  {
   "cell_type": "code",
   "execution_count": 22,
   "metadata": {},
   "outputs": [],
   "source": [
    "android_clean = save_uniques(android, 0, 3, andTuple) # create clean android dataset using the above function\n",
    "ios_clean = save_uniques(ios, 2, 6, iosTuple) # same for iOS dataset"
   ]
  },
  {
   "cell_type": "markdown",
   "metadata": {},
   "source": [
    "# 6. Removing Non-English Apps: Part One\n",
    "\n",
    "This section is dedicated to identifying apps that are not aimed at English speaking audiences. To achieve this I will search the cleaned datasets for ASCII characters `>127` since all commonly used English characters are between 0 and 127."
   ]
  },
  {
   "cell_type": "code",
   "execution_count": 23,
   "metadata": {},
   "outputs": [],
   "source": [
    "# function that checks, if an app name is English or not. Parameter is \"appName\" which is a String:\n",
    "\n",
    "def englisch(appName):\n",
    "    counter = 0 # create a counter and set it to 0\n",
    "    for char in appName: # loop through each character of the String from the input \"appName\" and\n",
    "        if ord(char) > 127: # using the \"ord()\" method, check if the character is above 127 (which is the ASCII limit for commonly used english characters)\n",
    "            counter += 1 # increase the above counter by 1\n",
    "            if counter > 3: # check if there are more than 3 \"non-english\" characters in the String (3 is a randomly set limit)\n",
    "                return False # if there are more than 3 non-english characters found in the String, return False\n",
    "    return True # if the String is identified as Englisch, return True"
   ]
  },
  {
   "cell_type": "code",
   "execution_count": 24,
   "metadata": {},
   "outputs": [
    {
     "name": "stdout",
     "output_type": "stream",
     "text": [
      "True\n",
      "False\n",
      "True\n",
      "False\n",
      "False\n"
     ]
    }
   ],
   "source": [
    "# Testing the above function\n",
    "\n",
    "print(englisch(\"Instagram\"))\n",
    "print(englisch(\"爱奇艺PPS -《欢乐颂2》电视剧热播\"))\n",
    "print(englisch(\"Docs To Go™ Free Office Suite\"))\n",
    "print(englisch(\"Instachat 😜😜😜😜\"))\n",
    "print(englisch(\"😜😜😜😜\"))"
   ]
  },
  {
   "cell_type": "markdown",
   "metadata": {},
   "source": [
    "# 7. Removing Non-English Apps: Part Two\n",
    "\n",
    "- Change the function you created in the previous screen. If the input string has more than three characters that fall outside the ASCII range (0 - 127), then the function should return `False` (identify the string as non-English), otherwise it should return `True`."
   ]
  },
  {
   "cell_type": "code",
   "execution_count": 25,
   "metadata": {},
   "outputs": [],
   "source": [
    "# this function uses the above function \"englisch()\" which returns a Boolean, to create a new dataset with only English AppNames:\n",
    "# Parameters are:\n",
    "# - dataset: the dataset to clean\n",
    "# - name_index: the index of the name column\n",
    "# - output: the cleaned dataset as list\n",
    "\n",
    "ios_english = [] # create empty list to store the english iOS apps\n",
    "android_english = [] # create empty list to store the english android apps\n",
    "def only_eng(dataset, name_index, output): \n",
    "    for row in dataset: # for each iteration through the dataset:\n",
    "        name = row[name_index] # get the name column and store it in a variable called \"name\"\n",
    "        if englisch(name): # use the above function and check if the name qualifies as \"english\"\n",
    "            output.append(row) # if so, store the appname in \"output\"\n",
    "    return output # return the output"
   ]
  },
  {
   "cell_type": "code",
   "execution_count": 26,
   "metadata": {},
   "outputs": [
    {
     "name": "stdout",
     "output_type": "stream",
     "text": [
      "['Photo Editor & Candy Camera & Grid & ScrapBook', 'ART_AND_DESIGN', '4.1', '159', '19M', '10,000+', 'Free', '0', 'Everyone', 'Art & Design', 'January 7, 2018', '1.0.0', '4.0.3 and up']\n",
      "\n",
      "\n",
      "['U Launcher Lite – FREE Live Cool Themes, Hide Apps', 'ART_AND_DESIGN', '4.7', '87510', '8.7M', '5,000,000+', 'Free', '0', 'Everyone', 'Art & Design', 'August 1, 2018', '1.2.4', '4.0.3 and up']\n",
      "\n",
      "\n",
      "['Sketch - Draw & Paint', 'ART_AND_DESIGN', '4.5', '215644', '25M', '50,000,000+', 'Free', '0', 'Teen', 'Art & Design', 'June 8, 2018', 'Varies with device', '4.2 and up']\n",
      "\n",
      "\n",
      "Number of rows:  9614\n",
      "Number of cols:  13\n",
      "['1', '281656475', 'PAC-MAN Premium', '100788224', 'USD', '3.99', '21292', '26', '4', '4.5', '6.3.5', '4+', 'Games', '38', '5', '10', '1']\n",
      "\n",
      "\n",
      "['2', '281796108', 'Evernote - stay organized', '158578688', 'USD', '0', '161065', '26', '4', '3.5', '8.2.2', '4+', 'Productivity', '37', '5', '23', '1']\n",
      "\n",
      "\n",
      "['3', '281940292', 'WeatherBug - Local Weather, Radar, Maps, Alerts', '100524032', 'USD', '0', '188583', '2822', '3.5', '4.5', '5.0.0', '4+', 'Weather', '37', '5', '3', '1']\n",
      "\n",
      "\n",
      "Number of rows:  6181\n",
      "Number of cols:  17\n"
     ]
    }
   ],
   "source": [
    "eng_android = only_eng(android_clean, 0, android_english) # using the function above, create a list of only english android apps\n",
    "explore_data(eng_android,0,3,True) # explore the new dataset\n",
    "eng_ios = only_eng(ios_clean, 2 , ios_english) # using the function above, create a list of only english iOS apps\n",
    "explore_data(eng_ios, 0,3,True) # explore the new dataset"
   ]
  },
  {
   "cell_type": "markdown",
   "metadata": {},
   "source": [
    "### Current Dataset to use:\n",
    "\n",
    "from this step on please use the following cleaned datasets for each function calls\n",
    "\n",
    "- ios_english\n",
    "- android_english"
   ]
  },
  {
   "cell_type": "markdown",
   "metadata": {},
   "source": [
    "# 8. Isolating the Free Apps\n",
    "\n",
    "- Loop through each data set to isolate the free apps in separate lists. Make sure you identify the columns describing the app price correctly.\n",
    "- After you isolate the free apps, check the length of each data set to see how many apps you have remaining."
   ]
  },
  {
   "cell_type": "code",
   "execution_count": 27,
   "metadata": {},
   "outputs": [],
   "source": [
    "#ios price = col 5\n",
    "#android price = col 7\n",
    "# function to select only the \"free\" apps in both datasets with the following parameters:\n",
    "# - dataset: the dataset to transform\n",
    "# - price_index: the index of the price column\n",
    "# - output: name of the list to store the results \n",
    "\n",
    "ios_free = [] # create an empty list to store the free ios apps\n",
    "android_free = [] # create an empty list to store the free android apps\n",
    "def is_Free(dataset, price_index, output): \n",
    "    for row in dataset: # for each iteration throuth the dataset:\n",
    "        price = row[price_index] # get the price column and store it in a variable called \"price\"\n",
    "        if price == \"0\": # if the price equals ZERO:\n",
    "            output.append(row) # store the row in the output list\n",
    "    return output # return the output"
   ]
  },
  {
   "cell_type": "code",
   "execution_count": 28,
   "metadata": {
    "scrolled": true
   },
   "outputs": [
    {
     "name": "stdout",
     "output_type": "stream",
     "text": [
      "['2', '281796108', 'Evernote - stay organized', '158578688', 'USD', '0', '161065', '26', '4', '3.5', '8.2.2', '4+', 'Productivity', '37', '5', '23', '1']\n",
      "\n",
      "\n",
      "['3', '281940292', 'WeatherBug - Local Weather, Radar, Maps, Alerts', '100524032', 'USD', '0', '188583', '2822', '3.5', '4.5', '5.0.0', '4+', 'Weather', '37', '5', '3', '1']\n",
      "\n",
      "\n",
      "['4', '282614216', 'eBay: Best App to Buy, Sell, Save! Online Shopping', '128512000', 'USD', '0', '262241', '649', '4', '4.5', '5.10.0', '12+', 'Shopping', '37', '5', '9', '1']\n",
      "\n",
      "\n",
      "Number of rows:  3220\n",
      "Number of cols:  17\n",
      "['Photo Editor & Candy Camera & Grid & ScrapBook', 'ART_AND_DESIGN', '4.1', '159', '19M', '10,000+', 'Free', '0', 'Everyone', 'Art & Design', 'January 7, 2018', '1.0.0', '4.0.3 and up']\n",
      "\n",
      "\n",
      "['U Launcher Lite – FREE Live Cool Themes, Hide Apps', 'ART_AND_DESIGN', '4.7', '87510', '8.7M', '5,000,000+', 'Free', '0', 'Everyone', 'Art & Design', 'August 1, 2018', '1.2.4', '4.0.3 and up']\n",
      "\n",
      "\n",
      "['Sketch - Draw & Paint', 'ART_AND_DESIGN', '4.5', '215644', '25M', '50,000,000+', 'Free', '0', 'Teen', 'Art & Design', 'June 8, 2018', 'Varies with device', '4.2 and up']\n",
      "\n",
      "\n",
      "Number of rows:  8864\n",
      "Number of cols:  13\n"
     ]
    }
   ],
   "source": [
    "free_ios = is_Free(ios_english, 5, ios_free) # create a new dataset with only free iOS apps\n",
    "free_android = is_Free(android_english, 7, android_free) # do the same for android apps\n",
    "explore_data(free_ios,0,3,True) # explore the new dataset\n",
    "explore_data(free_android,0,3,True) # explore the new dataset\n"
   ]
  },
  {
   "cell_type": "markdown",
   "metadata": {},
   "source": [
    "# 9. Most Common Apps by Genre: Part One\n",
    "\n",
    "## Further goals:\n",
    "\n",
    "As we mentioned in the introduction, our aim is to determine the kinds of apps that are likely to attract more users because our revenue is highly influenced by the number of people using our apps.\n",
    "\n",
    "To minimize risks and overhead, our validation strategy for an app idea is comprised of three steps:\n",
    "\n",
    "1) Build a minimal Android version of the app, and add it to Google Play.\n",
    "2) If the app has a good response from users, we develop it further.\n",
    "3) If the app is profitable after six months, we build an iOS version of the app and add it to the App Store.\n",
    "\n",
    "Because our end goal is to add the app on both Google Play and the App Store, we need to find app profiles that are successful on both markets. For instance, a profile that works well for both markets might be a productivity app that makes use of gamification.\n",
    "\n",
    "Let's begin the analysis by getting a sense of what are the most common genres for each market. For this, we'll need to build frequency tables for a few columns in our data sets.\n",
    "\n",
    "### Current datasets to use:\n",
    "\n",
    "from this step on please use the following cleaned datasets for each function calls\n",
    "\n",
    "- free_ios\n",
    "- free_android\n"
   ]
  },
  {
   "cell_type": "code",
   "execution_count": 31,
   "metadata": {},
   "outputs": [],
   "source": [
    "def display_table(dataset, index):\n",
    "    table = freq_table(dataset, index) # get a new frequency table with percentages and store it in a variable called \"table\"\n",
    "    table_display = [] # create a new empty list called \"table_display\"\n",
    "    for key in table: # for each key in the above created frequency table:\n",
    "        key_val_as_tuple = (table[key], key) # get each key-value-pair and save it as a Tuple called \"key_val_as_tuple\"\n",
    "        table_display.append(key_val_as_tuple) # add that newly created Tuple to the \"table_display\" list\n",
    "    table_sorted = sorted(table_display, reverse = True) # sort the \"table_display\" list in descending order and store it in a variable called \"table_sorted\"\n",
    "    for entry in table_sorted: # loop through the newly created sorted table and for each iteration:\n",
    "        print(entry[1], \":\", entry[0]) # print out the key-value-pair in reverse order"
   ]
  },
  {
   "cell_type": "markdown",
   "metadata": {},
   "source": [
    "The `display_table()` function above\n",
    "\n",
    "- Takes in two parameters:`dataset` and `index`.`dataset` is expected to be a list of lists, and `index` is expected to be an integer.\n",
    "- Generates a frequency table using the `freq_table()` function (which you're going to write as an exercise).\n",
    "- Transforms the frequency table into a list of tuples, then sorts the list in a descending order.\n",
    "- Prints the entries of the frequency table in descending order."
   ]
  },
  {
   "cell_type": "markdown",
   "metadata": {},
   "source": [
    "# 10. Most Common Apps by Genre: Part Two\n",
    "\n",
    "We'll build two functions we can use to analyze the frequency tables:\n",
    "\n",
    "- One function to generate frequency tables that show percentages\n",
    "- Another function we can use to display the percentages in a descending order"
   ]
  },
  {
   "cell_type": "code",
   "execution_count": 30,
   "metadata": {},
   "outputs": [],
   "source": [
    "# function takes in the following parameters:\n",
    "# - dataset: the dataset to work with\n",
    "# - index: the index of the desired column to inspect\n",
    "\n",
    "def freq_table(dataset, index):\n",
    "    f_dict = {} # create an empty dictionary called \"f_dict\"\n",
    "    totalApps = len(dataset) # get the number of rows for the dataset and store it in a variable called \"totalApps\"\n",
    "    for row in dataset: # loop through the dataset and for each iteration:\n",
    "        val = row[index] # get the row from the desired column (defined by the index parameter) and store it in a variable called \"val\"\n",
    "        if val in f_dict: # if the \"val\" is already present in the \"f_dict\" dictionary:\n",
    "            f_dict[val] += 1 # increase the value of the f_dict dictionary by 1\n",
    "        else: # otherwise:\n",
    "            f_dict[val] = 1 # just set the value of the f_dict to 1\n",
    "    for key in f_dict: # loop through each key from the newly created f_dict dictionary and for each iteration:\n",
    "        perc = (f_dict[key]/totalApps)*100 # calculate the percentage and store it in a varialbe called \"perc\"\n",
    "        f_dict[key] = perc # replace the values in f_dict with the newly calculated percentages\n",
    "    return f_dict # return the new f_dict as Dictionary"
   ]
  },
  {
   "cell_type": "markdown",
   "metadata": {},
   "source": [
    "### Test if the above function worked as expected\n",
    "\n",
    "by calling it and checking if the sum of all percentages equals to 100"
   ]
  },
  {
   "cell_type": "code",
   "execution_count": 32,
   "metadata": {},
   "outputs": [
    {
     "name": "stdout",
     "output_type": "stream",
     "text": [
      "{'Productivity': 1.7391304347826086, 'Weather': 0.8695652173913043, 'Shopping': 2.608695652173913, 'Reference': 0.5590062111801243, 'Finance': 1.1180124223602486, 'Music': 2.049689440993789, 'Utilities': 2.515527950310559, 'Travel': 1.2422360248447204, 'Social Networking': 3.291925465838509, 'Sports': 2.142857142857143, 'Health & Fitness': 2.018633540372671, 'Games': 58.13664596273293, 'Food & Drink': 0.8074534161490683, 'News': 1.3354037267080745, 'Book': 0.43478260869565216, 'Photo & Video': 4.968944099378882, 'Entertainment': 7.888198757763975, 'Business': 0.5279503105590062, 'Lifestyle': 1.5838509316770186, 'Education': 3.6645962732919255, 'Navigation': 0.18633540372670807, 'Medical': 0.18633540372670807, 'Catalogs': 0.12422360248447205}\n",
      "100.00000000000001\n"
     ]
    }
   ],
   "source": [
    "#ios: prime_genre col: 12\n",
    "#android: genres col: 9, category col: 1\n",
    "test = freq_table(free_ios, 12)\n",
    "print(test)\n",
    "summe = 0\n",
    "for key in test:\n",
    "    summe += test[key]\n",
    "print(summe)"
   ]
  },
  {
   "cell_type": "code",
   "execution_count": 33,
   "metadata": {},
   "outputs": [
    {
     "name": "stdout",
     "output_type": "stream",
     "text": [
      "iOS Apps sorted by Genre descending:\n",
      "\n",
      "\n",
      "Games : 58.13664596273293\n",
      "Entertainment : 7.888198757763975\n",
      "Photo & Video : 4.968944099378882\n",
      "Education : 3.6645962732919255\n",
      "Social Networking : 3.291925465838509\n",
      "Shopping : 2.608695652173913\n",
      "Utilities : 2.515527950310559\n",
      "Sports : 2.142857142857143\n",
      "Music : 2.049689440993789\n",
      "Health & Fitness : 2.018633540372671\n",
      "Productivity : 1.7391304347826086\n",
      "Lifestyle : 1.5838509316770186\n",
      "News : 1.3354037267080745\n",
      "Travel : 1.2422360248447204\n",
      "Finance : 1.1180124223602486\n",
      "Weather : 0.8695652173913043\n",
      "Food & Drink : 0.8074534161490683\n",
      "Reference : 0.5590062111801243\n",
      "Business : 0.5279503105590062\n",
      "Book : 0.43478260869565216\n",
      "Navigation : 0.18633540372670807\n",
      "Medical : 0.18633540372670807\n",
      "Catalogs : 0.12422360248447205\n",
      "\n",
      "\n"
     ]
    }
   ],
   "source": [
    "print(\"iOS Apps sorted by Genre descending:\")\n",
    "print(\"\\n\")\n",
    "ios_table = display_table(free_ios, 12)\n",
    "print(\"\\n\")"
   ]
  },
  {
   "cell_type": "markdown",
   "metadata": {},
   "source": [
    "# 11. Most Common Apps by Genre: Part Three\n",
    "\n",
    "## iOS Analysis\n",
    "\n",
    "- What is the most common genre? What is the runner-up?\n",
    "  > the first 4 entries are made up of Entertainment categories with \"Games\" being the top runner-up (55%)\n",
    "- What other patterns do you see?\n",
    "  > free iOS apps for the english market seem to be mostly focused around Entertainment\n",
    "- What is the general impression — are most of the apps designed for practical purposes (education, shopping, utilities, productivity, lifestyle) or more for entertainment (games, photo and video, social networking, sports, music)? \n",
    "  > see answer above\n",
    "- Can you recommend an app profile for the App Store market based on this frequency table alone? If there's a large number of apps for a particular genre, does that also imply that apps of that genre generally have a large number of users?\n",
    "  > definitely go for Games. Although this does not promise to also have a large user base, it´s sheer number rules out all other Genres!"
   ]
  },
  {
   "cell_type": "code",
   "execution_count": 34,
   "metadata": {},
   "outputs": [
    {
     "name": "stdout",
     "output_type": "stream",
     "text": [
      "Android Apps sorted by Genre descending:\n",
      "\n",
      "\n",
      "Tools : 8.449909747292418\n",
      "Entertainment : 6.069494584837545\n",
      "Education : 5.347472924187725\n",
      "Business : 4.591606498194946\n",
      "Productivity : 3.892148014440433\n",
      "Lifestyle : 3.892148014440433\n",
      "Finance : 3.7003610108303246\n",
      "Medical : 3.531137184115524\n",
      "Sports : 3.463447653429603\n",
      "Personalization : 3.3167870036101084\n",
      "Communication : 3.2378158844765346\n",
      "Action : 3.1024368231046933\n",
      "Health & Fitness : 3.0798736462093865\n",
      "Photography : 2.944494584837545\n",
      "News & Magazines : 2.7978339350180503\n",
      "Social : 2.6624548736462095\n",
      "Travel & Local : 2.3240072202166067\n",
      "Shopping : 2.2450361010830324\n",
      "Books & Reference : 2.1435018050541514\n",
      "Simulation : 2.0419675090252705\n",
      "Dating : 1.861462093862816\n",
      "Arcade : 1.8501805054151623\n",
      "Video Players & Editors : 1.7712093862815883\n",
      "Casual : 1.7599277978339352\n",
      "Maps & Navigation : 1.3989169675090252\n",
      "Food & Drink : 1.2409747292418771\n",
      "Puzzle : 1.128158844765343\n",
      "Racing : 0.9927797833935018\n",
      "Role Playing : 0.9363718411552346\n",
      "Libraries & Demo : 0.9363718411552346\n",
      "Auto & Vehicles : 0.9250902527075812\n",
      "Strategy : 0.9138086642599278\n",
      "House & Home : 0.8235559566787004\n",
      "Weather : 0.8009927797833934\n",
      "Events : 0.7107400722021661\n",
      "Adventure : 0.6768953068592057\n",
      "Comics : 0.6092057761732852\n",
      "Beauty : 0.5979241877256317\n",
      "Art & Design : 0.5979241877256317\n",
      "Parenting : 0.4963898916967509\n",
      "Card : 0.45126353790613716\n",
      "Casino : 0.42870036101083037\n",
      "Trivia : 0.41741877256317694\n",
      "Educational;Education : 0.39485559566787\n",
      "Board : 0.3835740072202166\n",
      "Educational : 0.3722924187725632\n",
      "Education;Education : 0.33844765342960287\n",
      "Word : 0.2594765342960289\n",
      "Casual;Pretend Play : 0.236913357400722\n",
      "Music : 0.2030685920577617\n",
      "Racing;Action & Adventure : 0.16922382671480143\n",
      "Puzzle;Brain Games : 0.16922382671480143\n",
      "Entertainment;Music & Video : 0.16922382671480143\n",
      "Casual;Brain Games : 0.13537906137184114\n",
      "Casual;Action & Adventure : 0.13537906137184114\n",
      "Arcade;Action & Adventure : 0.12409747292418773\n",
      "Action;Action & Adventure : 0.10153429602888085\n",
      "Educational;Pretend Play : 0.09025270758122744\n",
      "Simulation;Action & Adventure : 0.078971119133574\n",
      "Parenting;Education : 0.078971119133574\n",
      "Entertainment;Brain Games : 0.078971119133574\n",
      "Board;Brain Games : 0.078971119133574\n",
      "Parenting;Music & Video : 0.06768953068592057\n",
      "Educational;Brain Games : 0.06768953068592057\n",
      "Casual;Creativity : 0.06768953068592057\n",
      "Art & Design;Creativity : 0.06768953068592057\n",
      "Education;Pretend Play : 0.056407942238267145\n",
      "Role Playing;Pretend Play : 0.04512635379061372\n",
      "Education;Creativity : 0.04512635379061372\n",
      "Role Playing;Action & Adventure : 0.033844765342960284\n",
      "Puzzle;Action & Adventure : 0.033844765342960284\n",
      "Entertainment;Creativity : 0.033844765342960284\n",
      "Entertainment;Action & Adventure : 0.033844765342960284\n",
      "Educational;Creativity : 0.033844765342960284\n",
      "Educational;Action & Adventure : 0.033844765342960284\n",
      "Education;Music & Video : 0.033844765342960284\n",
      "Education;Brain Games : 0.033844765342960284\n",
      "Education;Action & Adventure : 0.033844765342960284\n",
      "Adventure;Action & Adventure : 0.033844765342960284\n",
      "Video Players & Editors;Music & Video : 0.02256317689530686\n",
      "Sports;Action & Adventure : 0.02256317689530686\n",
      "Simulation;Pretend Play : 0.02256317689530686\n",
      "Puzzle;Creativity : 0.02256317689530686\n",
      "Music;Music & Video : 0.02256317689530686\n",
      "Entertainment;Pretend Play : 0.02256317689530686\n",
      "Casual;Education : 0.02256317689530686\n",
      "Board;Action & Adventure : 0.02256317689530686\n",
      "Video Players & Editors;Creativity : 0.01128158844765343\n",
      "Trivia;Education : 0.01128158844765343\n",
      "Travel & Local;Action & Adventure : 0.01128158844765343\n",
      "Tools;Education : 0.01128158844765343\n",
      "Strategy;Education : 0.01128158844765343\n",
      "Strategy;Creativity : 0.01128158844765343\n",
      "Strategy;Action & Adventure : 0.01128158844765343\n",
      "Simulation;Education : 0.01128158844765343\n",
      "Role Playing;Brain Games : 0.01128158844765343\n",
      "Racing;Pretend Play : 0.01128158844765343\n",
      "Puzzle;Education : 0.01128158844765343\n",
      "Parenting;Brain Games : 0.01128158844765343\n",
      "Music & Audio;Music & Video : 0.01128158844765343\n",
      "Lifestyle;Pretend Play : 0.01128158844765343\n",
      "Lifestyle;Education : 0.01128158844765343\n",
      "Health & Fitness;Education : 0.01128158844765343\n",
      "Health & Fitness;Action & Adventure : 0.01128158844765343\n",
      "Entertainment;Education : 0.01128158844765343\n",
      "Communication;Creativity : 0.01128158844765343\n",
      "Comics;Creativity : 0.01128158844765343\n",
      "Casual;Music & Video : 0.01128158844765343\n",
      "Card;Action & Adventure : 0.01128158844765343\n",
      "Books & Reference;Education : 0.01128158844765343\n",
      "Art & Design;Pretend Play : 0.01128158844765343\n",
      "Art & Design;Action & Adventure : 0.01128158844765343\n",
      "Arcade;Pretend Play : 0.01128158844765343\n",
      "Adventure;Education : 0.01128158844765343\n",
      "\n",
      "\n"
     ]
    }
   ],
   "source": [
    "print(\"Android Apps sorted by Genre descending:\")\n",
    "print(\"\\n\")\n",
    "android_g_table = display_table(free_android, 9)\n",
    "print(\"\\n\")\n"
   ]
  },
  {
   "cell_type": "code",
   "execution_count": 35,
   "metadata": {},
   "outputs": [
    {
     "name": "stdout",
     "output_type": "stream",
     "text": [
      "Android Apps sorted by Category descending:\n",
      "\n",
      "\n",
      "FAMILY : 18.907942238267147\n",
      "GAME : 9.724729241877256\n",
      "TOOLS : 8.461191335740072\n",
      "BUSINESS : 4.591606498194946\n",
      "LIFESTYLE : 3.9034296028880866\n",
      "PRODUCTIVITY : 3.892148014440433\n",
      "FINANCE : 3.7003610108303246\n",
      "MEDICAL : 3.531137184115524\n",
      "SPORTS : 3.395758122743682\n",
      "PERSONALIZATION : 3.3167870036101084\n",
      "COMMUNICATION : 3.2378158844765346\n",
      "HEALTH_AND_FITNESS : 3.0798736462093865\n",
      "PHOTOGRAPHY : 2.944494584837545\n",
      "NEWS_AND_MAGAZINES : 2.7978339350180503\n",
      "SOCIAL : 2.6624548736462095\n",
      "TRAVEL_AND_LOCAL : 2.33528880866426\n",
      "SHOPPING : 2.2450361010830324\n",
      "BOOKS_AND_REFERENCE : 2.1435018050541514\n",
      "DATING : 1.861462093862816\n",
      "VIDEO_PLAYERS : 1.7937725631768955\n",
      "MAPS_AND_NAVIGATION : 1.3989169675090252\n",
      "FOOD_AND_DRINK : 1.2409747292418771\n",
      "EDUCATION : 1.1620036101083033\n",
      "ENTERTAINMENT : 0.9589350180505415\n",
      "LIBRARIES_AND_DEMO : 0.9363718411552346\n",
      "AUTO_AND_VEHICLES : 0.9250902527075812\n",
      "HOUSE_AND_HOME : 0.8235559566787004\n",
      "WEATHER : 0.8009927797833934\n",
      "EVENTS : 0.7107400722021661\n",
      "PARENTING : 0.6543321299638989\n",
      "ART_AND_DESIGN : 0.6430505415162455\n",
      "COMICS : 0.6204873646209386\n",
      "BEAUTY : 0.5979241877256317\n"
     ]
    }
   ],
   "source": [
    "print(\"Android Apps sorted by Category descending:\")\n",
    "print(\"\\n\")\n",
    "android_c_table = display_table(free_android, 1)"
   ]
  },
  {
   "cell_type": "markdown",
   "metadata": {},
   "source": [
    "## Android Analysis\n",
    "\n",
    "- What are the most common genres?\n",
    "  > Family & Games, Tools & Entertainment\n",
    "- What other patterns do you see?\n",
    "  > unlike iOS Apps these top categories seem to be aimed more towards practical purposes\n",
    "- Compare the patterns you see for the Google Play market with those you saw for the App Store market.\n",
    "  > see above, but android is split up into more categories which spreads out the frequencies a bit further.\n",
    "- Can you recommend an app profile based on what you found so far? Do the frequency tables you generated reveal the most frequent app genres or what genres have the most users?\n",
    "  > I think the frequency tables alone don´t reveal any hints on numbers of users. However the Games Genre for iOS seems to be taking half the cake!\n"
   ]
  },
  {
   "cell_type": "markdown",
   "metadata": {},
   "source": [
    "# 12. Most Common Apps by Genre on the App Store\n",
    "\n",
    "The frequency tables we analyzed on the previous screen showed us that the App Store is dominated by apps designed for fun, while Google Play shows a more balanced landscape of both practical and fun apps. Now, we'd like to get an idea about the kind of apps with the most users.\n",
    "\n",
    "One way to find out what genres are the most popular (have the most users) is to calculate the average number of `installs` for each app genre. For the Google Play data set, we can find this information in the Installs column, but this information is missing for the App Store data set. As a workaround, we'll take the total number of user ratings as a proxy, which we can find in the `rating_count_tot` app.\n",
    "\n",
    "Let's start with calculating the average number of user ratings per app genre on the App Store. To do that, we'll need to:\n",
    "\n",
    "- Isolate the apps of each genre.\n",
    "- Sum up the user ratings for the apps of that genre.\n",
    "- Divide the sum by the number of apps belonging to that genre (not by the total number of apps)."
   ]
  },
  {
   "cell_type": "code",
   "execution_count": 36,
   "metadata": {},
   "outputs": [
    {
     "name": "stdout",
     "output_type": "stream",
     "text": [
      "100.00000000000001\n"
     ]
    }
   ],
   "source": [
    "# ios_table\n",
    "# android_g_table\n",
    "# android_c_table\n",
    "\n",
    "#free_ios: prime_genre col: 12, ratings col: 6\n",
    "#free_android: genres col: 9, category col: 1\n",
    "\n",
    "ios_genre = freq_table(free_ios, 12)\n",
    "#android_genre = freq_table(free_android, 9)\n",
    "#print(ios_genre)\n",
    "summe = 0\n",
    "for key in ios_genre:\n",
    "    summe += ios_genre[key]\n",
    "print(summe)"
   ]
  },
  {
   "cell_type": "code",
   "execution_count": 37,
   "metadata": {},
   "outputs": [],
   "source": [
    "# function that calculates the average rating-count for each genre using the following parameters:\n",
    "# - uni_genres: the above created \"ios_genre\" frequency table\n",
    "# - dataset: the latest cleaned dataset to work with\n",
    "# - genre_index: the index of the genre column\n",
    "# - rating_index: the index of the rating column\n",
    "\n",
    "def get_Avg(uni_genres, dataset, genre_index, rating_index):\n",
    "    for genre in uni_genres: # loop through the frequency table and for each iteration:\n",
    "        total = 0 # create a variable \"total\" and set it to 0\n",
    "        len_genre = 0 # create a variable \"len_genre\" and set it to 0\n",
    "        for row in dataset: # loop through each row in the cleaned dataset and for each iteration:\n",
    "            genre_app = row[genre_index] # get the genre column and store it in a variable called \"genre_app\"\n",
    "            if genre_app == genre: # check if the genre matches the genre of the frequency table of the outer loop\n",
    "                rating = float(row[rating_index]) # if so, get the rating column, convert it to a float and store it in a variable called \"rating\"\n",
    "                total += rating # add the rating-count to the above variable \"total\" of the outer loop\n",
    "                len_genre += 1 # increase the \"len_genre\" counter by 1\n",
    "        average = total/len_genre # calculate the average rating count per genre\n",
    "        print(genre) # print all the stuff:\n",
    "        print(total)\n",
    "        print(len_genre)\n",
    "        print(average)    \n",
    "    return average # return the calculated average as float\n",
    "        "
   ]
  },
  {
   "cell_type": "code",
   "execution_count": 38,
   "metadata": {},
   "outputs": [
    {
     "name": "stdout",
     "output_type": "stream",
     "text": [
      "Productivity\n",
      "1177591.0\n",
      "56\n",
      "21028.410714285714\n",
      "Weather\n",
      "1463837.0\n",
      "28\n",
      "52279.892857142855\n",
      "Shopping\n",
      "2261254.0\n",
      "84\n",
      "26919.690476190477\n",
      "Reference\n",
      "1348958.0\n",
      "18\n",
      "74942.11111111111\n",
      "Finance\n",
      "1132846.0\n",
      "36\n",
      "31467.944444444445\n",
      "Music\n",
      "3783551.0\n",
      "66\n",
      "57326.530303030304\n",
      "Utilities\n",
      "1513441.0\n",
      "81\n",
      "18684.456790123455\n",
      "Travel\n",
      "1129752.0\n",
      "40\n",
      "28243.8\n",
      "Social Networking\n",
      "7584125.0\n",
      "106\n",
      "71548.34905660378\n",
      "Sports\n",
      "1587614.0\n",
      "69\n",
      "23008.898550724636\n",
      "Health & Fitness\n",
      "1514371.0\n",
      "65\n",
      "23298.015384615384\n",
      "Games\n",
      "42705795.0\n",
      "1872\n",
      "22812.92467948718\n",
      "Food & Drink\n",
      "866682.0\n",
      "26\n",
      "33333.92307692308\n",
      "News\n",
      "913665.0\n",
      "43\n",
      "21248.023255813954\n",
      "Book\n",
      "556619.0\n",
      "14\n",
      "39758.5\n",
      "Photo & Video\n",
      "4550647.0\n",
      "160\n",
      "28441.54375\n",
      "Entertainment\n",
      "3563577.0\n",
      "254\n",
      "14029.830708661417\n",
      "Business\n",
      "127349.0\n",
      "17\n",
      "7491.117647058823\n",
      "Lifestyle\n",
      "840774.0\n",
      "51\n",
      "16485.764705882353\n",
      "Education\n",
      "826470.0\n",
      "118\n",
      "7003.983050847458\n",
      "Navigation\n",
      "516542.0\n",
      "6\n",
      "86090.33333333333\n",
      "Medical\n",
      "3672.0\n",
      "6\n",
      "612.0\n",
      "Catalogs\n",
      "16016.0\n",
      "4\n",
      "4004.0\n"
     ]
    }
   ],
   "source": [
    "avg_ios_genre = get_Avg(ios_genre, free_ios, 12,6)\n",
    "# avg_android_genre = get_Avg(android_genre, free_android, 1,5) <--- Install col contains Strings!!! Will be dealt with in the next step"
   ]
  },
  {
   "cell_type": "markdown",
   "metadata": {},
   "source": [
    "# 13. Most Popular Apps by Genre on Google Play\n",
    "\n",
    "In the previous screen, we came up with an app profile recommendation for the App Store based on the number of user ratings. We have data about the number of installs for the Google Play market, so we should be able to get a clearer picture about genre popularity. However, the install numbers don't seem precise enough — we can see that most values are open-ended (100+, 1,000+, 5,000+, etc.)\n",
    "\n",
    "We're going to leave the numbers as they are, which means that we'll consider that an app with 100,000+ installs has 100,000 installs, and an app with 1,000,000+ installs has 1,000,000 installs, and so on. To perform computations, however, we'll need to convert each install number from string to float. This means we need to remove the commas and the plus characters, otherwise the conversion will fail and raise an error."
   ]
  },
  {
   "cell_type": "code",
   "execution_count": 39,
   "metadata": {},
   "outputs": [
    {
     "name": "stdout",
     "output_type": "stream",
     "text": [
      "1,000,000+ : 15.726534296028879\n",
      "100,000+ : 11.552346570397113\n",
      "10,000,000+ : 10.548285198555957\n",
      "10,000+ : 10.198555956678701\n",
      "1,000+ : 8.393501805054152\n",
      "100+ : 6.915613718411552\n",
      "5,000,000+ : 6.825361010830325\n",
      "500,000+ : 5.561823104693141\n",
      "50,000+ : 4.7721119133574\n",
      "5,000+ : 4.512635379061372\n",
      "10+ : 3.5424187725631766\n",
      "500+ : 3.2490974729241873\n",
      "50,000,000+ : 2.3014440433213\n",
      "100,000,000+ : 2.1322202166064983\n",
      "50+ : 1.917870036101083\n",
      "5+ : 0.78971119133574\n",
      "1+ : 0.5076714801444043\n",
      "500,000,000+ : 0.2707581227436823\n",
      "1,000,000,000+ : 0.22563176895306858\n",
      "0+ : 0.04512635379061372\n",
      "0 : 0.01128158844765343\n"
     ]
    }
   ],
   "source": [
    "display_table(free_android, 5) # display and sort the free android apps by installs"
   ]
  },
  {
   "cell_type": "code",
   "execution_count": 40,
   "metadata": {},
   "outputs": [],
   "source": [
    "# android_g_table\n",
    "# android_c_table\n",
    "\n",
    "android_cats = freq_table(free_android, 1)\n",
    "#free_android: Installs col: 5, category col: 1\n",
    "\n",
    "# function that handles the number of installs (String) and converts it to Integers. The rest does the same as the above function \"get_Avg()\"\n",
    "# Parameters are:\n",
    "# - uni_genres: the frequency table for each genre\n",
    "# - dataset: the latest cleaned dataset\n",
    "# - genre_index: the index number of the genre column\n",
    "# - install_index: the index number of the \"Install\" column\n",
    "\n",
    "def get_Avg_andro(uni_genres, dataset, genre_index, install_index):\n",
    "    for genre in uni_genres: # loop through the frequency table and for each iteration:\n",
    "        total = 0 # create a variable called \"total\" and set it to 0\n",
    "        len_genre = 0 # create a variable called \"len_genre\" and set it to 0\n",
    "        for row in dataset: # loop through each row in the cleaned dataset for each iteration:\n",
    "            genre_app = row[genre_index] # get the genre column and store it in a variable named \"genre_app\"\n",
    "            if genre_app == genre: # if that genre is the same as the one in the frequency table:\n",
    "                installs = (row[install_index]).replace(\"+\", \"\") # remove the \"+\" from the String and store it in \"installs\"\n",
    "                installs = installs.replace(\",\",\"\") # then also remove the \",\" and overvrite \"installs\"\n",
    "                installs = float(installs) # finally convert \"installs\" to a float\n",
    "                total += installs # and add the no. of installs to \"total\"\n",
    "                len_genre += 1 # also increase the no. of len_genre by 1\n",
    "        average = total/len_genre # calculate the average no. of Installs and store it in a variable called \"average\"\n",
    "        print(genre) # print all the stuff:\n",
    "        print(total)\n",
    "        print(len_genre)\n",
    "        print(average)    \n",
    "    return average # return the average as float\n"
   ]
  },
  {
   "cell_type": "code",
   "execution_count": 41,
   "metadata": {},
   "outputs": [
    {
     "name": "stdout",
     "output_type": "stream",
     "text": [
      "ART_AND_DESIGN\n",
      "113221100.0\n",
      "57\n",
      "1986335.0877192982\n",
      "AUTO_AND_VEHICLES\n",
      "53080061.0\n",
      "82\n",
      "647317.8170731707\n",
      "BEAUTY\n",
      "27197050.0\n",
      "53\n",
      "513151.88679245283\n",
      "BOOKS_AND_REFERENCE\n",
      "1665884260.0\n",
      "190\n",
      "8767811.894736841\n",
      "BUSINESS\n",
      "696902090.0\n",
      "407\n",
      "1712290.1474201474\n",
      "COMICS\n",
      "44971150.0\n",
      "55\n",
      "817657.2727272727\n",
      "COMMUNICATION\n",
      "11036906201.0\n",
      "287\n",
      "38456119.167247385\n",
      "DATING\n",
      "140914757.0\n",
      "165\n",
      "854028.8303030303\n",
      "EDUCATION\n",
      "188850000.0\n",
      "103\n",
      "1833495.145631068\n",
      "ENTERTAINMENT\n",
      "989460000.0\n",
      "85\n",
      "11640705.88235294\n",
      "EVENTS\n",
      "15973160.0\n",
      "63\n",
      "253542.22222222222\n",
      "FINANCE\n",
      "455163132.0\n",
      "328\n",
      "1387692.475609756\n",
      "FOOD_AND_DRINK\n",
      "211738751.0\n",
      "110\n",
      "1924897.7363636363\n",
      "HEALTH_AND_FITNESS\n",
      "1143548402.0\n",
      "273\n",
      "4188821.9853479853\n",
      "HOUSE_AND_HOME\n",
      "97202461.0\n",
      "73\n",
      "1331540.5616438356\n",
      "LIBRARIES_AND_DEMO\n",
      "52995810.0\n",
      "83\n",
      "638503.734939759\n",
      "LIFESTYLE\n",
      "497484429.0\n",
      "346\n",
      "1437816.2687861272\n",
      "GAME\n",
      "13436869450.0\n",
      "862\n",
      "15588015.603248259\n",
      "FAMILY\n",
      "6193895690.0\n",
      "1676\n",
      "3695641.8198090694\n",
      "MEDICAL\n",
      "37732344.0\n",
      "313\n",
      "120550.61980830671\n",
      "SOCIAL\n",
      "5487861902.0\n",
      "236\n",
      "23253652.127118643\n",
      "SHOPPING\n",
      "1400338585.0\n",
      "199\n",
      "7036877.311557789\n",
      "PHOTOGRAPHY\n",
      "4656268815.0\n",
      "261\n",
      "17840110.40229885\n",
      "SPORTS\n",
      "1095230683.0\n",
      "301\n",
      "3638640.1428571427\n",
      "TRAVEL_AND_LOCAL\n",
      "2894704086.0\n",
      "207\n",
      "13984077.710144928\n",
      "TOOLS\n",
      "8101043474.0\n",
      "750\n",
      "10801391.298666667\n",
      "PERSONALIZATION\n",
      "1529235888.0\n",
      "294\n",
      "5201482.6122448975\n",
      "PRODUCTIVITY\n",
      "5791629314.0\n",
      "345\n",
      "16787331.344927534\n",
      "PARENTING\n",
      "31471010.0\n",
      "58\n",
      "542603.6206896552\n",
      "WEATHER\n",
      "360288520.0\n",
      "71\n",
      "5074486.197183099\n",
      "VIDEO_PLAYERS\n",
      "3931731720.0\n",
      "159\n",
      "24727872.452830188\n",
      "NEWS_AND_MAGAZINES\n",
      "2368196260.0\n",
      "248\n",
      "9549178.467741935\n",
      "MAPS_AND_NAVIGATION\n",
      "503060780.0\n",
      "124\n",
      "4056941.7741935486\n"
     ]
    },
    {
     "data": {
      "text/plain": [
       "float"
      ]
     },
     "execution_count": 41,
     "metadata": {},
     "output_type": "execute_result"
    }
   ],
   "source": [
    "avg_andro = get_Avg_andro(android_cats, free_android, 1, 5)\n",
    "type(avg_andro)"
   ]
  },
  {
   "cell_type": "markdown",
   "metadata": {},
   "source": [
    "## my personal Results\n",
    "\n",
    "Android Categories differ greatly based on their number of installs from what we´ve seen on the iOS side. The most downloaded Categories within free Apps are\n",
    "\n",
    "1. Communication\n",
    "2. Video_Players\n",
    "3. Social\n",
    "\n",
    "iOS Top Three\n",
    "\n",
    "1. Games\n",
    "2. Entertainment\n",
    "3. Photo\n",
    "\n",
    "Games is on rank 6 whereas on iOS it´s No. 1. Since the iOS ranking is based on number of user ratings and the Android ranking is based on actual installs, this is hard to compare. However a good compromise seems to be to focus on Games and Utilities such as Photo/Video.\n"
   ]
  },
  {
   "cell_type": "code",
   "execution_count": null,
   "metadata": {},
   "outputs": [],
   "source": []
  }
 ],
 "metadata": {
  "kernelspec": {
   "display_name": "Python 3",
   "language": "python",
   "name": "python3"
  },
  "language_info": {
   "codemirror_mode": {
    "name": "ipython",
    "version": 3
   },
   "file_extension": ".py",
   "mimetype": "text/x-python",
   "name": "python",
   "nbconvert_exporter": "python",
   "pygments_lexer": "ipython3",
   "version": "3.7.3"
  }
 },
 "nbformat": 4,
 "nbformat_minor": 2
}
